{
 "cells": [
  {
   "cell_type": "code",
   "execution_count": null,
   "metadata": {
    "id": "2z4qTSemyTyZ"
   },
   "outputs": [],
   "source": [
    "import pandas as pd\n",
    "import numpy as np\n",
    "\n",
    "csv_data = pd.read_csv(\",/data/perch.csv\")\n",
    "perch_length = csv_data[[\"length\"]]\n",
    "perch_weight = csv_data[\"weight\"]"
   ]
  },
  {
   "cell_type": "code",
   "execution_count": null,
   "metadata": {
    "id": "9_D3mK3kzOiG"
   },
   "outputs": [],
   "source": [
    "import matplotlib.pyplot as plt\n",
    "plt.scatter(perch_length, perch_weight)\n",
    "plt.xlabel(\"length\")\n",
    "plt.ylabel(\"weight\")\n",
    "plt.show()"
   ]
  },
  {
   "cell_type": "code",
   "execution_count": null,
   "metadata": {
    "id": "nkSgM3r0znFG"
   },
   "outputs": [],
   "source": [
    "from sklearn.model_selection import train_test_split\n",
    "train_data, test_data, train_target, test_target = train_test_split(perch_length, perch_weight, random_state=42)\n",
    "print(train_data.shape, test_data.shape)"
   ]
  },
  {
   "cell_type": "markdown",
   "metadata": {
    "id": "YulKGdalr9Rs"
   },
   "source": [
    "## ***결정 계수 ($ R^2$)***"
   ]
  },
  {
   "cell_type": "markdown",
   "metadata": {
    "id": "o9EEABYjXBAy"
   },
   "source": [
    "![결정계수.png](https://blog.kakaocdn.net/dn/bcRJdc/btrfouf07fV/K1nI7k5PUlFi0fVMzgPW60/img.png)"
   ]
  },
  {
   "cell_type": "code",
   "execution_count": null,
   "metadata": {
    "id": "DQq7ecke-cOB"
   },
   "outputs": [],
   "source": [
    "from sklearn.neighbors import (KNN학습 회귀클래스)\n",
    "\n",
    "model = KNeighborsRegressor()\n",
    "model.fit(train_data, train_target)\n",
    "print(model.score(test_data, test_target))"
   ]
  },
  {
   "cell_type": "code",
   "execution_count": null,
   "metadata": {
    "id": "PJ-d9qPYzA36"
   },
   "outputs": [],
   "source": [
    "pred_data = pd.read_csv(\"perch_test.csv\")\n",
    "print(model.predict(pred_data))"
   ]
  },
  {
   "cell_type": "code",
   "execution_count": null,
   "metadata": {
    "id": "agZOcws_zzBG"
   },
   "outputs": [],
   "source": [
    "model2 = KNeighborsRegressor(n_neighbors=3)\n",
    "model2.fit(train_data, train_target)\n",
    "print(model2.predict([[50]]))"
   ]
  },
  {
   "cell_type": "code",
   "execution_count": null,
   "metadata": {
    "id": "Xp9NJERj6aPU"
   },
   "outputs": [],
   "source": [
    "distances, indexes=model2.kneighbors([[50]])\n",
    "\n",
    "indexes = np.ravel(indexes, order='C')\n",
    "plt.scatter(train_data, train_target)\n",
    "plt.scatter(50, 1033, marker=\"^\")\n",
    "plt.scatter(train_data.iloc[indexes], train_target.iloc[indexes], marker=\"D\")\n",
    "plt.xlabel(\"length\")\n",
    "plt.ylabel(\"weight\")\n",
    "plt.show()"
   ]
  },
  {
   "cell_type": "code",
   "execution_count": null,
   "metadata": {
    "id": "eMTvr6FG1WGI"
   },
   "outputs": [],
   "source": [
    "print(np.mean(train_target.iloc[indexes]))"
   ]
  },
  {
   "cell_type": "markdown",
   "metadata": {
    "id": "BOLhSy37vdJj"
   },
   "source": [
    "## **선형 회귀**\n",
    "![](https://velog.velcdn.com/images%2Fyuns_u%2Fpost%2F818c1992-3a20-4453-8649-c8960dfb9648%2Fimage.png)"
   ]
  },
  {
   "cell_type": "markdown",
   "metadata": {
    "id": "93e6QTESMYFR"
   },
   "source": [
    "![](https://velog.velcdn.com/images%2Fyuns_u%2Fpost%2F56ae069c-bb69-4f43-87fe-7412ad61aeb7%2Fimage.png)"
   ]
  },
  {
   "cell_type": "markdown",
   "metadata": {
    "id": "jHTl7TzELsVO"
   },
   "source": [
    "## 손실함수(MSE)\n",
    "![](https://velog.velcdn.com/images%2Fyuns_u%2Fpost%2Fb84a480c-c7a6-4072-8664-c71607558cae%2Fimage.png)"
   ]
  },
  {
   "cell_type": "code",
   "execution_count": null,
   "metadata": {
    "id": "Xxbduj5y0dlg"
   },
   "outputs": [],
   "source": [
    "from sklearn.linear_model import (선형회귀학습 클래스)\n",
    "lr_model = LinearRegression()\n",
    "lr_model.fit(train_data, train_target)\n",
    "print(\"훈련 데이터의 정확도 :\", lr_model.score(train_data, train_target))\n",
    "print(\"테스트 데이터의 정확도 :\", lr_model.score(test_data, test_target))"
   ]
  },
  {
   "cell_type": "code",
   "execution_count": null,
   "metadata": {
    "id": "Nk_iYCN73HDj"
   },
   "outputs": [],
   "source": [
    "pred_data = lr_model.predict([[50]])\n",
    "print(pred_data)"
   ]
  },
  {
   "cell_type": "code",
   "execution_count": null,
   "metadata": {
    "id": "-xoUmGEKW2tj"
   },
   "outputs": [],
   "source": [
    "pred_data = lr_model.predict([[100]])\n",
    "print(pred_data)"
   ]
  },
  {
   "cell_type": "code",
   "execution_count": null,
   "metadata": {
    "id": "qHzDjIHJ3Uk3"
   },
   "outputs": [],
   "source": [
    "print(회귀모델의 기울기, 회귀모델의 절편값)"
   ]
  },
  {
   "cell_type": "code",
   "execution_count": null,
   "metadata": {
    "id": "Iaof-gP4fIYN"
   },
   "outputs": [],
   "source": [
    "point = np.arange(14, 50)\n",
    "plt.scatter(train_data, train_target)\n",
    "plt.plot(point, point * lr_model.coef_ + lr_model.intercept_)\n",
    "plt.scatter(50,1242, marker=\"^\")\n",
    "plt.xlabel(\"length\")\n",
    "plt.ylabel(\"weight\")\n",
    "plt.show()"
   ]
  },
  {
   "cell_type": "code",
   "execution_count": null,
   "metadata": {
    "id": "ed2GW1pQhSIq"
   },
   "outputs": [],
   "source": [
    "train_poly = pd.DataFrame(train_data)\n",
    "train_poly.insert(0, \"length2\", train_data ** 2)\n",
    "print(train_poly.shape)\n",
    "test_poly = pd.DataFrame(test_data)\n",
    "test_poly.insert(0, \"length2\", test_data ** 2)\n",
    "print(test_poly.shape)\n",
    "print(test_poly)"
   ]
  },
  {
   "cell_type": "code",
   "execution_count": null,
   "metadata": {
    "id": "-LxNoK0xkSnj"
   },
   "outputs": [],
   "source": [
    "lr_model.fit(train_poly, train_target)\n",
    "print(\"훈련 데이터의 정확도 :\", lr_model.score(train_poly, train_target))\n",
    "print(\"테스트 데이터의 정확도 :\", lr_model.score(test_poly, test_target))"
   ]
  },
  {
   "cell_type": "code",
   "execution_count": null,
   "metadata": {
    "id": "LZwDDtsSkmvz"
   },
   "outputs": [],
   "source": [
    "pred_data = lr_model.predict([[50**2, 50]])\n",
    "print(pred_data)"
   ]
  },
  {
   "cell_type": "code",
   "execution_count": null,
   "metadata": {
    "id": "5YDAkG5wd_kZ"
   },
   "outputs": [],
   "source": [
    "pred_data = lr_model.predict([[100**2, 100]])\n",
    "print(pred_data)"
   ]
  },
  {
   "cell_type": "code",
   "execution_count": null,
   "metadata": {
    "id": "lRrXfNMLlX4Q"
   },
   "outputs": [],
   "source": [
    "print(lr_model.coef_, lr_model.intercept_)"
   ]
  },
  {
   "cell_type": "code",
   "execution_count": null,
   "metadata": {
    "id": "TFv433hS8YMr"
   },
   "outputs": [],
   "source": [
    "train_data, test_data, train_target, test_target = train_test_split(perch_length, perch_weight, random_state=42)\n",
    "print(train_data.shape, test_data.shape)"
   ]
  },
  {
   "cell_type": "code",
   "execution_count": null,
   "metadata": {
    "id": "jgw5i9tilsz6"
   },
   "outputs": [],
   "source": [
    "point = np.arange(14, 50)\n",
    "plt.scatter(train_data, train_target)\n",
    "plt.plot(point, point**2 * lr_model.coef_[0] + point * lr_model.coef_[1] + lr_model.intercept_)\n",
    "plt.scatter(50,1574, marker=\"^\")\n",
    "plt.xlabel(\"length\")\n",
    "plt.ylabel(\"weight\")\n",
    "plt.show()"
   ]
  },
  {
   "cell_type": "code",
   "execution_count": null,
   "metadata": {
    "id": "GPOmsfYpY7Nq"
   },
   "outputs": [],
   "source": []
  }
 ],
 "metadata": {
  "colab": {
   "authorship_tag": "ABX9TyM6s9aZdbXr5OhP6dXHDfbo",
   "mount_file_id": "19gt3vtDjDuOr1slVGOq-uSGXPJuadBMg",
   "provenance": [
    {
     "file_id": "19gt3vtDjDuOr1slVGOq-uSGXPJuadBMg",
     "timestamp": 1685254804896
    }
   ]
  },
  "kernelspec": {
   "display_name": "Python 3",
   "language": "python",
   "name": "python3"
  },
  "language_info": {
   "codemirror_mode": {
    "name": "ipython",
    "version": 3
   },
   "file_extension": ".py",
   "mimetype": "text/x-python",
   "name": "python",
   "nbconvert_exporter": "python",
   "pygments_lexer": "ipython3",
   "version": "3.8.3"
  }
 },
 "nbformat": 4,
 "nbformat_minor": 1
}
