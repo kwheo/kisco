{
 "cells": [
  {
   "cell_type": "markdown",
   "metadata": {
    "id": "qgvltCXlYou1"
   },
   "source": [
    "### CSV파일 데이터 읽어오기"
   ]
  },
  {
   "cell_type": "code",
   "execution_count": null,
   "metadata": {
    "id": "KrHDrkF_YdvI"
   },
   "outputs": [],
   "source": [
    "#넘파이\n",
    "import numpy as np\n",
    "fish_data = np.loadtxt(\"./Data/fish_data_name.csv\",delimiter=\",\",skiprows=1,usecols=(0,1))\n",
    "fish_target = np.loadtxt(\"./Data/fish_data_name.csv\",dtype=str, delimiter=\",\",skiprows=1,usecols=-1)\n",
    "print(fish_data.shape)\n",
    "print(fish_target.shape)"
   ]
  },
  {
   "cell_type": "code",
   "execution_count": null,
   "metadata": {
    "id": "NkC4FBsSeVCE"
   },
   "outputs": [],
   "source": [
    "import matplotlib.pyplot as plt\n",
    "plt.scatter(fish_data[:, 0], fish_data[:, 1])\n",
    "plt.xlabel(\"length\")\n",
    "plt.ylabel(\"weight\")\n",
    "plt.show()"
   ]
  },
  {
   "cell_type": "code",
   "execution_count": null,
   "metadata": {
    "id": "KZQu3J8hcTx2"
   },
   "outputs": [],
   "source": [
    "#판다스\n",
    "import pandas as pd\n",
    "#csv_data = pd.read_csv(\"fish_data_name.csv\", header=None)#제목행이 없는 경우\n",
    "csv_data = pd.read_csv(\"./Data/fish_data_name.csv\")\n",
    "fish_data2 = csv_data[[\"length\",\"weight\"]]\n",
    "fish_target2 = csv_data[\"name\"]\n",
    "print(fish_data2.shape)\n",
    "print(fish_target2.shape)"
   ]
  },
  {
   "cell_type": "code",
   "execution_count": null,
   "metadata": {
    "id": "akTNAzgWoQKD"
   },
   "outputs": [],
   "source": [
    "plt.scatter(fish_data2[\"length\"], fish_data2[\"weight\"])\n",
    "plt.xlabel(\"length\")\n",
    "plt.ylabel(\"weight\")\n",
    "plt.show()"
   ]
  },
  {
   "cell_type": "code",
   "execution_count": null,
   "metadata": {
    "id": "80a2Xl2OpDMg"
   },
   "outputs": [],
   "source": [
    "plt.scatter(fish_data2.iloc[:, 0], fish_data2.iloc[:, 1])\n",
    "plt.xlabel(\"length\")\n",
    "plt.ylabel(\"weight\")\n",
    "plt.show()"
   ]
  },
  {
   "cell_type": "code",
   "execution_count": null,
   "metadata": {
    "id": "dZwRHbfjfhZ5"
   },
   "outputs": [],
   "source": [
    "from sklearn.neighbors import (KNN학습 분류클래스)\n",
    "model = KNeighborsClassifier()\n",
    "model.(훈련)(fish_data, fish_target)\n",
    "model.(정확도)(fish_data, fish_target)"
   ]
  },
  {
   "cell_type": "code",
   "execution_count": null,
   "metadata": {
    "id": "JTtErEfQg_u2"
   },
   "outputs": [],
   "source": [
    "plt.scatter(fish_data[:, 0], fish_data[:, 1])\n",
    "plt.scatter(30, 600, marker=\"^\")\n",
    "plt.xlabel(\"length\")\n",
    "plt.ylabel(\"weight\")\n",
    "plt.show()"
   ]
  },
  {
   "cell_type": "code",
   "execution_count": null,
   "metadata": {
    "id": "hrp90hjyhpIH"
   },
   "outputs": [],
   "source": [
    "pred = model.(결과값 예측)([[30, 600]])\n",
    "print(pred)"
   ]
  },
  {
   "cell_type": "code",
   "execution_count": null,
   "metadata": {
    "id": "tQjSpPTr0OU6"
   },
   "outputs": [],
   "source": [
    "plt.scatter(fish_data[:, 0], fish_data[:, 1])\n",
    "plt.scatter(10, 15, marker=\"^\")\n",
    "plt.xlabel(\"length\")\n",
    "plt.ylabel(\"weight\")\n",
    "plt.show()"
   ]
  },
  {
   "cell_type": "code",
   "execution_count": null,
   "metadata": {
    "id": "LdRTa__U0jxK"
   },
   "outputs": [],
   "source": [
    "pred = model.predict([[10, 15]])\n",
    "print(pred)"
   ]
  },
  {
   "cell_type": "code",
   "execution_count": null,
   "metadata": {
    "id": "6_9iMKGciAXL"
   },
   "outputs": [],
   "source": [
    "plt.scatter(fish_data[:, 0], fish_data[:, 1])\n",
    "plt.scatter(25, 150, marker=\"^\")\n",
    "plt.xlabel(\"length\")\n",
    "plt.ylabel(\"weight\")\n",
    "plt.show()"
   ]
  },
  {
   "cell_type": "code",
   "execution_count": null,
   "metadata": {
    "id": "fvK8kcBOiLAT"
   },
   "outputs": [],
   "source": [
    "pred2 = model.predict([[25, 150]])\n",
    "print(pred2)"
   ]
  },
  {
   "cell_type": "code",
   "execution_count": null,
   "metadata": {
    "id": "bCmb2Mu4ijmD"
   },
   "outputs": [],
   "source": [
    "fish_test_data = np.loadtxt(\"./Data/fish_test_data_name.csv\",delimiter=\",\",skiprows=1)\n",
    "print(fish_test_data)"
   ]
  },
  {
   "cell_type": "code",
   "execution_count": null,
   "metadata": {
    "id": "Kk7d6BtkNca1"
   },
   "outputs": [],
   "source": [
    "model.predict(fish_test_data)"
   ]
  },
  {
   "cell_type": "code",
   "execution_count": null,
   "metadata": {
    "id": "q3jOYq_quJsS"
   },
   "outputs": [],
   "source": [
    "fish_test_data2 = pd.read_csv(\"./Data/fish_test_data_name.csv\")\n",
    "print(fish_test_data2)"
   ]
  },
  {
   "cell_type": "code",
   "execution_count": null,
   "metadata": {
    "id": "0BKTxmWdubDg"
   },
   "outputs": [],
   "source": [
    "print(model.predict(fish_test_data2))"
   ]
  },
  {
   "cell_type": "code",
   "execution_count": null,
   "metadata": {
    "id": "TH0nzwdZcX_u"
   },
   "outputs": [],
   "source": [
    "distances, indexes=model.kneighbors([[25,150]])\n",
    "\n",
    "plt.scatter(fish_data[:, 0], fish_data[:, 1])\n",
    "plt.scatter(25,150, marker=\"^\")\n",
    "plt.scatter(fish_data[indexes,0], fish_data[indexes,1], marker=\"D\")\n",
    "plt.xlabel(\"length\")\n",
    "plt.ylabel(\"weight\")\n",
    "plt.show()"
   ]
  },
  {
   "cell_type": "code",
   "execution_count": null,
   "metadata": {
    "id": "jvKPIy_HepAF"
   },
   "outputs": [],
   "source": [
    "distances, indexes=model.kneighbors([[25,150]])\n",
    "\n",
    "indexes2 = np.ravel(indexes, order='C')\n",
    "plt.scatter(fish_data2[\"length\"], fish_data2[\"weight\"])\n",
    "plt.scatter(25,150, marker=\"^\")\n",
    "plt.scatter(fish_data2.iloc[indexes2, 0], fish_data2.iloc[indexes2,1], marker=\"D\")\n",
    "plt.xlim(0,1000)\n",
    "plt.xlabel(\"length\")\n",
    "plt.ylabel(\"weight\")\n",
    "plt.show()"
   ]
  },
  {
   "cell_type": "markdown",
   "metadata": {
    "id": "rWle3AYEQ2zj"
   },
   "source": [
    "### 표준점수(Z값)\n",
    "1. Z = (훈련데이터 - 평균) / 표준편차\n",
    "2. 표준화 : 모든 값들의 표준 값을 정해서 그 값을 기준으로 차이를 구해서 비교하는 방법\n",
    "> sklearn : StandardScaler\n",
    "3. 정규화 : 값의 범위를 0~1사이의 데이터로 변환\n",
    "> sklearn : Normalizer에 transform메소드를 이용\n",
    "4. 표준화는 일정한 범위 내로 데이터를 변환하는 것이고, 정규화는 0~1 사이의 데이터로 변환하는 것\n"
   ]
  },
  {
   "cell_type": "code",
   "execution_count": null,
   "metadata": {
    "id": "RQYeqbjHNoD4"
   },
   "outputs": [],
   "source": [
    "mean = np.mean(fish_data, axis=0)\n",
    "std = np.std(fish_data, axis=0)"
   ]
  },
  {
   "cell_type": "code",
   "execution_count": null,
   "metadata": {
    "id": "8FE7OkarTSDH"
   },
   "outputs": [],
   "source": [
    "scaled = (fish_data - mean) / std\n",
    "print(scaled)"
   ]
  },
  {
   "cell_type": "code",
   "execution_count": null,
   "metadata": {
    "id": "f0UEyLncTngb"
   },
   "outputs": [],
   "source": [
    "from sklearn.preprocessing import (표준점수 변환 클래스)\n",
    "ss = StandardScaler()\n",
    "scaled2 = ss.fit_transform(fish_data)\n",
    "print(scaled2)"
   ]
  },
  {
   "cell_type": "markdown",
   "metadata": {
    "id": "3TRrEm7lZ66R"
   },
   "source": [
    "### 훈련데이터와 검증데이터 분리\n",
    "![](https://velog.velcdn.com/images%2Frcchun%2Fpost%2Ffc232e11-de18-4b8f-8028-34378f8673f2%2Fimage.png)\n",
    "\n",
    "* test_size: 테스트 셋 구성의 비율\n",
    "* test_size=0.2 : 0.2는 전체 데이터 셋의 20%를 test(validation) 셋으로 지정하겠다는 의미. default 값은 0.25\n",
    "* shuffle: default=True\n",
    "* stratify: default=None\n",
    "* classification을 다룰 때 매우 중요한 옵션값. stratify 값을 target으로 지정해주면 각각(훈련/검증)의 class 비율(ratio)을 유지(한 쪽에 쏠려서 분배되는 것을 방지).\n",
    "* random_state: 세트를 섞을 때 해당 int 값을 보고 섞으며, 하이퍼 파라미터를 튜닝시 이 값을 고정해두고 튜닝해야 매번 데이터셋이 변경되는 것을 방지할 수 있음. "
   ]
  },
  {
   "cell_type": "code",
   "execution_count": null,
   "metadata": {
    "id": "5RW_44aTZ746"
   },
   "outputs": [],
   "source": [
    "from sklearn.model_selection import (훈련데이터와 테스트 데이터 분리)\n",
    "#train_data, test_data, train_target, test_target = train_test_split(scaled2, fish_target)\n",
    "train_data, test_data, train_target, test_target = train_test_split(scaled2, fish_target, stratify=fish_target, random_state=42)\n",
    "print(train_data.shape, test_data.shape)"
   ]
  },
  {
   "cell_type": "code",
   "execution_count": null,
   "metadata": {
    "id": "-Kvg_8puVSSh"
   },
   "outputs": [],
   "source": [
    "model.fit(train_data, train_target)\n",
    "print(\"훈련데이터의 정확도:\", model.score(train_data, train_target))\n",
    "print(\"테스트데이터의 정확도:\", model.score(test_data, test_target))"
   ]
  },
  {
   "cell_type": "code",
   "execution_count": null,
   "metadata": {
    "id": "nQY2WZsDXk0M"
   },
   "outputs": [],
   "source": [
    "scaled_test = ss.transform(fish_test_data)\n",
    "print(model.predict(scaled_test))"
   ]
  },
  {
   "cell_type": "code",
   "execution_count": null,
   "metadata": {
    "id": "rzif0cC1YleU"
   },
   "outputs": [],
   "source": []
  }
 ],
 "metadata": {
  "colab": {
   "authorship_tag": "ABX9TyOSW7NOEZrjBtVum7Y1Gr4c",
   "gpuType": "T4",
   "mount_file_id": "1qt_97UByG39tPMS_WubgKPX2KKgA4lqG",
   "provenance": [
    {
     "file_id": "1qt_97UByG39tPMS_WubgKPX2KKgA4lqG",
     "timestamp": 1685248624530
    }
   ]
  },
  "kernelspec": {
   "display_name": "Python 3",
   "language": "python",
   "name": "python3"
  },
  "language_info": {
   "codemirror_mode": {
    "name": "ipython",
    "version": 3
   },
   "file_extension": ".py",
   "mimetype": "text/x-python",
   "name": "python",
   "nbconvert_exporter": "python",
   "pygments_lexer": "ipython3",
   "version": "3.8.3"
  }
 },
 "nbformat": 4,
 "nbformat_minor": 1
}
