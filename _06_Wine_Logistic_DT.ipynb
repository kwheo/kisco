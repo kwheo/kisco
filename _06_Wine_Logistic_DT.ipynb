{
 "cells": [
  {
   "cell_type": "code",
   "execution_count": null,
   "metadata": {
    "id": "IJmA_2-oeD9l"
   },
   "outputs": [],
   "source": [
    "import pandas as pd\n",
    "import numpy as np\n",
    "\n",
    "csv_data = pd.read_csv(\"./Data/wine.csv\")\n",
    "csv_data.head()"
   ]
  },
  {
   "cell_type": "code",
   "execution_count": null,
   "metadata": {
    "id": "kzU6wnoyXIpS"
   },
   "outputs": [],
   "source": [
    "csv_data.info()"
   ]
  },
  {
   "cell_type": "code",
   "execution_count": null,
   "metadata": {
    "id": "1LSUBxThYF8U"
   },
   "outputs": [],
   "source": [
    "csv_data.describe()"
   ]
  },
  {
   "cell_type": "code",
   "execution_count": null,
   "metadata": {
    "id": "Jpy63ckaYJ4D"
   },
   "outputs": [],
   "source": [
    "wine_data = csv_data[[\"alcohol\", \"sugar\", \"pH\"]]\n",
    "wine_target = csv_data[\"class\"]"
   ]
  },
  {
   "cell_type": "code",
   "execution_count": null,
   "metadata": {
    "id": "6d8uU5TuWeI8"
   },
   "outputs": [],
   "source": [
    "from sklearn.model_selection import train_test_split\n",
    "\n",
    "train_data, test_data, train_target, test_target = train_test_split(wine_data, wine_target, test_size=0.2, random_state=42)\n",
    "\n",
    "print(train_data.shape, test_data.shape)"
   ]
  },
  {
   "cell_type": "code",
   "execution_count": null,
   "metadata": {
    "id": "9Cd2eG69ZIPr"
   },
   "outputs": [],
   "source": [
    "from sklearn.preprocessing import StandardScaler\n",
    "\n",
    "ss = StandardScaler()\n",
    "train_scaled = ss.fit_transform(train_data)\n",
    "test_scaled = ss.transform(test_data)"
   ]
  },
  {
   "cell_type": "code",
   "execution_count": null,
   "metadata": {
    "id": "Dj0A7YYSZP0E"
   },
   "outputs": [],
   "source": [
    "from sklearn.linear_model import LogisticRegression\n",
    "\n",
    "model = LogisticRegression()\n",
    "model.fit(train_scaled, train_target)\n",
    "print(model.score(train_scaled, train_target))\n",
    "print(model.score(test_scaled, test_target))"
   ]
  },
  {
   "cell_type": "code",
   "execution_count": null,
   "metadata": {
    "id": "BlamlRb3QwDl"
   },
   "outputs": [],
   "source": [
    "print(model.coef_, model.intercept_)"
   ]
  },
  {
   "cell_type": "code",
   "execution_count": null,
   "metadata": {
    "id": "hZcdchjNli7s"
   },
   "outputs": [],
   "source": [
    "from sklearn.tree import (트리 분류 클래스))\n",
    "dt_model = DecisionTreeClassifier(random_state=42)\n",
    "dt_model.fit(train_scaled, train_target)\n",
    "print(dt_model.score(train_scaled, train_target))\n",
    "print(dt_model.score(test_scaled, test_target))"
   ]
  },
  {
   "cell_type": "code",
   "execution_count": null,
   "metadata": {
    "id": "y7oRF3xaS4yu"
   },
   "outputs": [],
   "source": [
    "import matplotlib.pyplot as plt\n",
    "from sklearn.tree import plot_tree\n",
    "plt.figure(figsize=(10,7))\n",
    "plot_tree(dt_model)\n",
    "plt.show()"
   ]
  },
  {
   "cell_type": "code",
   "execution_count": null,
   "metadata": {
    "id": "d8hcXFO4TcHK"
   },
   "outputs": [],
   "source": [
    "plt.figure(figsize=(10,7))\n",
    "plot_tree(dt_model, max_depth=1, filled=True, feature_names=[\"alcohol\",\"sugar\",\"pH\"])\n",
    "plt.show()"
   ]
  },
  {
   "cell_type": "markdown",
   "metadata": {
    "id": "iofBUgjBVCg5"
   },
   "source": [
    "### 지니불순도\n",
    "![지니불순도](https://lucy-the-marketer.kr/wp-content/uploads/2020/12/gini-index-example-1.png)"
   ]
  },
  {
   "cell_type": "code",
   "execution_count": null,
   "metadata": {
    "id": "e1wT5IK5UHaU"
   },
   "outputs": [],
   "source": [
    "dt_model = DecisionTreeClassifier(max_depth=3, random_state=42)\n",
    "dt_model.fit(train_scaled, train_target)\n",
    "print(dt_model.score(train_scaled, train_target))\n",
    "print(dt_model.score(test_scaled, test_target))"
   ]
  },
  {
   "cell_type": "code",
   "execution_count": null,
   "metadata": {
    "id": "a8a4me_SXHct"
   },
   "outputs": [],
   "source": [
    "plt.figure(figsize=(20,15))\n",
    "plot_tree(dt_model, filled=True, feature_names=[\"alcohol\",\"sugar\",\"pH\"])\n",
    "plt.show()"
   ]
  },
  {
   "cell_type": "code",
   "execution_count": null,
   "metadata": {
    "id": "OXCIxBl9Y5fr"
   },
   "outputs": [],
   "source": [
    "print(dt_model.feature_importances_)"
   ]
  }
 ],
 "metadata": {
  "colab": {
   "authorship_tag": "ABX9TyP5KMG/twbmPnv1j6IVMwKP",
   "mount_file_id": "1EQFt_dhFRmOPcYl7wcV-92nyHZtpigiZ",
   "provenance": []
  },
  "kernelspec": {
   "display_name": "Python 3",
   "language": "python",
   "name": "python3"
  },
  "language_info": {
   "codemirror_mode": {
    "name": "ipython",
    "version": 3
   },
   "file_extension": ".py",
   "mimetype": "text/x-python",
   "name": "python",
   "nbconvert_exporter": "python",
   "pygments_lexer": "ipython3",
   "version": "3.8.3"
  }
 },
 "nbformat": 4,
 "nbformat_minor": 1
}
