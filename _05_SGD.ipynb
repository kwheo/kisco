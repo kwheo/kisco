{
 "cells": [
  {
   "cell_type": "code",
   "execution_count": null,
   "metadata": {
    "id": "XgZn3A_-COOD"
   },
   "outputs": [],
   "source": [
    "import pandas as pd\n",
    "import matplotlib.pyplot as plt\n",
    "csv_data = pd.read_csv(\"./Data/fish_all.csv\")\n",
    "csv_data.head()"
   ]
  },
  {
   "cell_type": "code",
   "execution_count": null,
   "metadata": {
    "id": "F8_xcjZ6DCKv"
   },
   "outputs": [],
   "source": [
    "fish_all = csv_data[[\"Weight\", \"Length\", \"Diagonal\", \"Height\", \"Width\"]]\n",
    "fish_target = csv_data[\"Species\"]\n",
    "print(fish_all.shape, fish_target.shape)"
   ]
  },
  {
   "cell_type": "code",
   "execution_count": null,
   "metadata": {
    "id": "AD-rhYiGEUiO"
   },
   "outputs": [],
   "source": [
    "from sklearn.model_selection import train_test_split\n",
    "train_data, test_data, train_target, test_target = train_test_split(fish_all, fish_target, random_state=42)\n",
    "print(train_data.shape, test_data.shape)"
   ]
  },
  {
   "cell_type": "code",
   "execution_count": null,
   "metadata": {
    "id": "2xI8N2riDtgN"
   },
   "outputs": [],
   "source": [
    "from sklearn.preprocessing import StandardScaler\n",
    "ss = StandardScaler()\n",
    "train_scaled = ss.fit_transform(train_data)\n",
    "test_scaled = ss.transform(test_data)"
   ]
  },
  {
   "cell_type": "markdown",
   "metadata": {
    "id": "LE_tMv2UcL6j"
   },
   "source": [
    "### 다항분류(SGD:확률적경사하강법)"
   ]
  },
  {
   "cell_type": "code",
   "execution_count": null,
   "metadata": {
    "id": "dxfxzZcWLbnY"
   },
   "outputs": [],
   "source": [
    "from sklearn.linear_model import SGDClassifier\n",
    "sgd_model = SGDClassifier(loss=\"log_loss\", max_iter=10, random_state=42)\n",
    "sgd_model.fit(train_scaled, train_target)\n",
    "print(\"훈련데이터의 정확도 : \", sgd_model.score(train_scaled, train_target))\n",
    "print(\"테스트데이터의 정확도 : \", sgd_model.score(test_scaled, test_target))"
   ]
  },
  {
   "cell_type": "code",
   "execution_count": null,
   "metadata": {
    "id": "97VWIBRhSDtH"
   },
   "outputs": [],
   "source": [
    "sgd_model.partial_fit(train_scaled, train_target)#partial_fit:모델을 이어서 훈련 계속\n",
    "print(sgd_model.score(train_scaled, train_target))\n",
    "print(sgd_model.score(test_scaled, test_target))"
   ]
  },
  {
   "cell_type": "code",
   "execution_count": null,
   "metadata": {
    "id": "k8ziWzkCZ-Jn"
   },
   "outputs": [],
   "source": [
    "sgd_model = SGDClassifier(loss=\"log_loss\", random_state=42)\n",
    "\n",
    "train_score = []\n",
    "test_score = []\n",
    "classes = np.unique(train_target)\n",
    "\n",
    "for _ in range(0, 300):\n",
    "  sgd_model.partial_fit(train_scaled, train_target, classes=classes)\n",
    "  train_score.append(sgd_model.score(train_scaled, train_target))\n",
    "  test_score.append(sgd_model.score(test_scaled, test_target))"
   ]
  },
  {
   "cell_type": "code",
   "execution_count": null,
   "metadata": {
    "id": "WyQ0bTzYZ-cu"
   },
   "outputs": [],
   "source": [
    "import matplotlib.pyplot as plt\n",
    "\n",
    "plt.plot(train_score)\n",
    "plt.plot(test_score)\n",
    "plt.xlabel(\"epoch\")\n",
    "plt.ylabel(\"accuracy\")\n",
    "plt.legend([\"train_score\", \"test_score\"])\n",
    "plt.show()"
   ]
  },
  {
   "cell_type": "code",
   "execution_count": null,
   "metadata": {
    "id": "lRqdD5fRaxFn"
   },
   "outputs": [],
   "source": [
    "sgd_model = SGDClassifier(loss=\"log_loss\", max_iter=100, tol=None, random_state=42)\n",
    "sgd_model.fit(train_scaled, train_target)\n",
    "print(sgd_model.score(train_scaled, train_target))\n",
    "print(sgd_model.score(test_scaled, test_target))"
   ]
  },
  {
   "cell_type": "code",
   "execution_count": null,
   "metadata": {
    "id": "T8SOYDj7dpDv"
   },
   "outputs": [],
   "source": [
    "sgd_model = SGDClassifier(loss=\"hinge\", max_iter=100, tol=None, random_state=42)#hinge = SVM\n",
    "sgd_model.fit(train_scaled, train_target)\n",
    "print(sgd_model.score(train_scaled, train_target))\n",
    "print(sgd_model.score(test_scaled, test_target))"
   ]
  }
 ],
 "metadata": {
  "colab": {
   "authorship_tag": "ABX9TyNKopHBK4KEuYO4J52PDBW4",
   "mount_file_id": "1TbpnM3t8KRz55GbziAm2DoPRS524DbXG",
   "provenance": []
  },
  "kernelspec": {
   "display_name": "Python 3",
   "language": "python",
   "name": "python3"
  },
  "language_info": {
   "codemirror_mode": {
    "name": "ipython",
    "version": 3
   },
   "file_extension": ".py",
   "mimetype": "text/x-python",
   "name": "python",
   "nbconvert_exporter": "python",
   "pygments_lexer": "ipython3",
   "version": "3.8.3"
  }
 },
 "nbformat": 4,
 "nbformat_minor": 1
}
