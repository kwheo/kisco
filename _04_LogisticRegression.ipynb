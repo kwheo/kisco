{
 "cells": [
  {
   "cell_type": "markdown",
   "metadata": {
    "id": "3keTVHhZyKDt"
   },
   "source": [
    "![](https://hleecaster.com/wp-content/uploads/2019/12/logreg01.png)"
   ]
  },
  {
   "cell_type": "markdown",
   "metadata": {
    "id": "b8HrfP-JyMZM"
   },
   "source": [
    "![](https://hleecaster.com/wp-content/uploads/2019/12/logreg02.png)"
   ]
  },
  {
   "cell_type": "markdown",
   "metadata": {
    "id": "PUpFLqpFyNJc"
   },
   "source": [
    "### Log-Odds\n",
    "* 개념\n",
    "\n",
    "> 선형 회귀에서는 각 속성의 값에다가 계수(coefficient)에 각 곱하고 절편(intercept)을 더해서 예측 값(-∞에서 + ∞)을 구함.\n",
    "\n",
    "> 로지스틱 회귀에서는 마지막에 예측 값 대신 log-odds를 구함.\n",
    "\n",
    "![Odds](https://hleecaster.com/wp-content/uploads/2019/12/logreg03.png)\n",
    "\n",
    "![](https://hleecaster.com/wp-content/uploads/2019/12/logreg04.png)\n",
    "\n",
    "![](https://hleecaster.com/wp-content/uploads/2019/12/logreg05.png)"
   ]
  },
  {
   "cell_type": "markdown",
   "metadata": {
    "id": "j0UXSrsiyMxw"
   },
   "source": [
    " log-odds를 Sigmoid 함수에 넣어서 0부터 1사이의 값으로 변환\n",
    "\n",
    "![시스모이드함수](https://hleecaster.com/wp-content/uploads/2019/12/logreg08.png)"
   ]
  },
  {
   "cell_type": "markdown",
   "metadata": {
    "id": "zADY9CEOyNa7"
   },
   "source": [
    "###Log Loss(로그 손실)\n",
    "![](https://hleecaster.com/wp-content/uploads/2019/12/logreg10.png)\n",
    "\n",
    "![](https://hleecaster.com/wp-content/uploads/2019/12/logreg11.png)\n",
    "\n",
    "![](https://hleecaster.com/wp-content/uploads/2019/12/logreg12.png)\n"
   ]
  },
  {
   "cell_type": "markdown",
   "metadata": {
    "id": "y6oSbaCtyNxE"
   },
   "source": [
    "![](https://quantifyinghealth.com/wp-content/uploads/2021/05/Logistic-regression-equation.png)"
   ]
  },
  {
   "cell_type": "markdown",
   "metadata": {
    "id": "GF25R-jb3jMv"
   },
   "source": [
    "![](http://people.linguistics.mcgill.ca/~morgan/qmld-book/04-CDA_files/figure-html/logodds-1.png)"
   ]
  },
  {
   "cell_type": "code",
   "execution_count": null,
   "metadata": {
    "id": "XgZn3A_-COOD"
   },
   "outputs": [],
   "source": [
    "import pandas as pd\n",
    "import matplotlib.pyplot as plt\n",
    "csv_data = pd.read_csv(\"./Data/fish_all.csv\")\n",
    "csv_data.head()"
   ]
  },
  {
   "cell_type": "code",
   "execution_count": null,
   "metadata": {
    "id": "F8_xcjZ6DCKv"
   },
   "outputs": [],
   "source": [
    "fish_all = csv_data[[\"Weight\", \"Length\", \"Diagonal\", \"Height\", \"Width\"]]\n",
    "fish_target = csv_data[\"Species\"]\n",
    "print(fish_all.shape, fish_target.shape)"
   ]
  },
  {
   "cell_type": "code",
   "execution_count": null,
   "metadata": {
    "id": "AD-rhYiGEUiO"
   },
   "outputs": [],
   "source": [
    "from sklearn.model_selection import train_test_split\n",
    "train_data, test_data, train_target, test_target = train_test_split(fish_all, fish_target, stratify=fish_target, random_state=42)\n",
    "print(train_data.shape, test_data.shape)"
   ]
  },
  {
   "cell_type": "code",
   "execution_count": null,
   "metadata": {
    "id": "2xI8N2riDtgN"
   },
   "outputs": [],
   "source": [
    "from sklearn.preprocessing import StandardScaler\n",
    "ss = StandardScaler()\n",
    "train_scaled = ss.fit_transform(train_data)"
   ]
  },
  {
   "cell_type": "code",
   "execution_count": null,
   "metadata": {
    "id": "WK3l27BQzQDm"
   },
   "outputs": [],
   "source": [
    "test_scaled = ss.transform(test_data)"
   ]
  },
  {
   "cell_type": "code",
   "execution_count": null,
   "metadata": {
    "id": "5aesBbGiFJBk"
   },
   "outputs": [],
   "source": [
    "import numpy as np\n",
    "\n",
    "z = np.arange(-5, 5, 0.1)\n",
    "phi = 1/(1+np.exp(-z))\n",
    "plt.plot(z, phi)\n",
    "plt.xlabel(\"z\")\n",
    "plt.ylabel(\"phi\")\n",
    "plt.show() "
   ]
  },
  {
   "cell_type": "markdown",
   "metadata": {
    "id": "1lO6IN02cGPU"
   },
   "source": [
    "### 이항분류"
   ]
  },
  {
   "cell_type": "code",
   "execution_count": null,
   "metadata": {
    "id": "DrUiU6mdGcZB"
   },
   "outputs": [],
   "source": [
    "br_sm_indexes = (train_target == \"Bream\") | (train_target == \"Smelt\")\n",
    "train_scaled2 = train_scaled[br_sm_indexes]\n",
    "train_target2 = train_target[br_sm_indexes]\n",
    "print(train_scaled2.shape)"
   ]
  },
  {
   "cell_type": "code",
   "execution_count": null,
   "metadata": {
    "id": "QkX1FvmSHFhj"
   },
   "outputs": [],
   "source": [
    "br_sm_indexes2 = (test_target == \"Bream\") | (test_target == \"Smelt\")\n",
    "test_scaled2 = test_scaled[br_sm_indexes2]\n",
    "test_target2 = test_target[br_sm_indexes2]\n",
    "print(test_scaled2.shape)"
   ]
  },
  {
   "cell_type": "code",
   "execution_count": null,
   "metadata": {
    "id": "qxTISRWWHvBX"
   },
   "outputs": [],
   "source": [
    "from sklearn.linear_model import (로지스틱 회귀 클래스)\n",
    "\n",
    "LR_model = LogisticRegression()\n",
    "LR_model.fit(train_scaled2, train_target2)\n",
    "print(\"훈련데이터의 정확도 : \", LR_model.score(train_scaled2, train_target2))\n",
    "print(\"검증데이터의 정확도 : \", LR_model.score(test_scaled2, test_target2))"
   ]
  },
  {
   "cell_type": "code",
   "execution_count": null,
   "metadata": {
    "id": "ZPAg005yISNq"
   },
   "outputs": [],
   "source": [
    "print(LR_model.predict(train_scaled2[:5]))"
   ]
  },
  {
   "cell_type": "code",
   "execution_count": null,
   "metadata": {
    "id": "b2GXpxjgeF_2"
   },
   "outputs": [],
   "source": [
    "print(test_target2[:5])"
   ]
  },
  {
   "cell_type": "code",
   "execution_count": null,
   "metadata": {
    "id": "2pdt7nbXIkEt"
   },
   "outputs": [],
   "source": [
    "print(LR_model.predict_proba(test_scaled2[:5]))"
   ]
  },
  {
   "cell_type": "code",
   "execution_count": null,
   "metadata": {
    "id": "2KL1j2WZLhs4"
   },
   "outputs": [],
   "source": [
    "[0.02544183 0.00467123 0.00439073 0.00129744 0.00526059]"
   ]
  },
  {
   "cell_type": "code",
   "execution_count": null,
   "metadata": {
    "id": "phz7OiN7I7e5"
   },
   "outputs": [],
   "source": [
    "print(LR_model.coef_, LR_model.intercept_)"
   ]
  },
  {
   "cell_type": "code",
   "execution_count": null,
   "metadata": {
    "id": "8cRE76gJJwXA"
   },
   "outputs": [],
   "source": [
    "print(LR_model.classes_)"
   ]
  },
  {
   "cell_type": "code",
   "execution_count": null,
   "metadata": {
    "id": "rsqeAD6KLHP1"
   },
   "outputs": [],
   "source": [
    "z_value = LR_model.decision_function(test_scaled2[:5])\n",
    "print(z_value)"
   ]
  },
  {
   "cell_type": "code",
   "execution_count": null,
   "metadata": {
    "id": "aEjV-8c8KRg5"
   },
   "outputs": [],
   "source": [
    "from scipy.special import expit\n",
    "print(expit(z_value))"
   ]
  },
  {
   "cell_type": "markdown",
   "metadata": {
    "id": "LE_tMv2UcL6j"
   },
   "source": [
    "### 다항분류"
   ]
  },
  {
   "cell_type": "code",
   "execution_count": null,
   "metadata": {
    "id": "dxfxzZcWLbnY"
   },
   "outputs": [],
   "source": [
    "model = LogisticRegression(C=20, max_iter=1000) #기본값:C=1(값이 클수록 강도가 약함), max_iter=100\n",
    "model.fit(train_scaled, train_target)\n",
    "print(\"훈련데이터의 정확도 : \", model.score(train_scaled, train_target))\n",
    "print(\"테스트데이터의 정확도 : \", model.score(test_scaled, test_target))"
   ]
  },
  {
   "cell_type": "code",
   "execution_count": null,
   "metadata": {
    "id": "L9hoEMD6NjJL"
   },
   "outputs": [],
   "source": [
    "print(model.classes_)\n",
    "print(model.predict(test_scaled[:5]))"
   ]
  },
  {
   "cell_type": "code",
   "execution_count": null,
   "metadata": {
    "id": "zfLMhsueff2O"
   },
   "outputs": [],
   "source": [
    "print(test_target[:5])"
   ]
  },
  {
   "cell_type": "code",
   "execution_count": null,
   "metadata": {
    "id": "sg5pvU7GN0z8"
   },
   "outputs": [],
   "source": [
    "import numpy as np\n",
    "proba = model.predict_proba(test_scaled[:5])\n",
    "print(np.round(proba, decimals=3))"
   ]
  },
  {
   "cell_type": "code",
   "execution_count": null,
   "metadata": {
    "id": "8krnI1xzeljp"
   },
   "outputs": [],
   "source": [
    "[[0.    0.029 0.237 0.003 0.685 0.01  0.035]\n",
    " [0.    0.032 0.576 0.001 0.35  0.003 0.039]\n",
    " [0.    0.062 0.558 0.001 0.336 0.017 0.026]\n",
    " [0.003 0.93  0.001 0.    0.051 0.    0.015]\n",
    " [0.001 0.882 0.004 0.    0.094 0.002 0.017]]"
   ]
  },
  {
   "cell_type": "code",
   "execution_count": null,
   "metadata": {
    "id": "r9n7OhAYOINH"
   },
   "outputs": [],
   "source": [
    "z_value2 = model.decision_function(test_scaled[:5])\n",
    "print(np.round(z_value2, decimals=3))"
   ]
  },
  {
   "cell_type": "code",
   "execution_count": null,
   "metadata": {
    "id": "oIVAq2AiPCpR"
   },
   "outputs": [],
   "source": [
    "from scipy.special import softmax\n",
    "proba2 = softmax(z_value2, axis=1)\n",
    "print(np.round(proba2, decimals=3))"
   ]
  }
 ],
 "metadata": {
  "colab": {
   "authorship_tag": "ABX9TyO8nXIF1YPKHUYvDx5frUhn",
   "mount_file_id": "1Av8bKdyMdEXCekItlxdCYo-US6Njo4Zc",
   "provenance": []
  },
  "kernelspec": {
   "display_name": "Python 3",
   "language": "python",
   "name": "python3"
  },
  "language_info": {
   "codemirror_mode": {
    "name": "ipython",
    "version": 3
   },
   "file_extension": ".py",
   "mimetype": "text/x-python",
   "name": "python",
   "nbconvert_exporter": "python",
   "pygments_lexer": "ipython3",
   "version": "3.8.3"
  }
 },
 "nbformat": 4,
 "nbformat_minor": 1
}
