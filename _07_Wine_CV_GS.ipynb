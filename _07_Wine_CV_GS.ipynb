{
 "cells": [
  {
   "cell_type": "code",
   "execution_count": null,
   "metadata": {
    "id": "wf1punUpyiaa"
   },
   "outputs": [],
   "source": [
    "import pandas as pd\n",
    "import numpy as np\n",
    "\n",
    "csv_data = pd.read_csv(\"./Data/wine.csv\")\n",
    "csv_data.head()"
   ]
  },
  {
   "cell_type": "code",
   "execution_count": null,
   "metadata": {
    "id": "FoTnEeYsy1wH"
   },
   "outputs": [],
   "source": [
    "wine_data = csv_data[[\"alcohol\", \"sugar\", \"pH\"]]\n",
    "wine_target = csv_data[\"class\"]"
   ]
  },
  {
   "cell_type": "code",
   "execution_count": null,
   "metadata": {
    "id": "3BvZYAkSy2hF"
   },
   "outputs": [],
   "source": [
    "from sklearn.model_selection import train_test_split\n",
    "\n",
    "train_data, test_data, train_target, test_target = train_test_split(wine_data, wine_target, test_size=0.2, random_state=42)\n",
    "\n",
    "sub_data, val_data, sub_target, val_target = train_test_split(train_data, train_target, test_size=0.2, random_state=42)"
   ]
  },
  {
   "cell_type": "code",
   "execution_count": null,
   "metadata": {
    "id": "r0AWlsAuzA5P"
   },
   "outputs": [],
   "source": [
    "from sklearn.tree import DecisionTreeClassifier\n",
    "\n",
    "dt_model = DecisionTreeClassifier(random_state=42)\n",
    "dt_model.fit(sub_data, sub_target)\n",
    "print(dt_model.score(sub_data, sub_target))\n",
    "print(dt_model.score(val_data, val_target))"
   ]
  },
  {
   "cell_type": "markdown",
   "metadata": {
    "id": "6XItrEXDqqpk"
   },
   "source": [
    "### 교차검증\n",
    "![교차검증](https://img1.daumcdn.net/thumb/R1280x0/?scode=mtistory2&fname=https%3A%2F%2Fblog.kakaocdn.net%2Fdn%2FriP4b%2FbtqZlQyFueH%2FOJ1lk0AyTpEWlVMEbS0L01%2Fimg.png)\n",
    "\n",
    "k개로 나눈 데이터셋의 부분집합들(한 칸씩)을 1번 fold, 2번 fold 라 부른다.\n",
    "\n",
    "교차검증은 바로 그 fold 들을 차례대로 교차해 테스트 데이터로 사용한다는 말.\n",
    "\n",
    "위 그림 예시에서는 첫 번째 모델 학습에서는 5번 fold를 테스트 데이터로 사용한다고 것이고, 다음 모델 학습에서는 4번 fold가 테스트 데이터이고, 그다음엔 3번 fold 이런 식으로 이어지면서 마지막 다섯 번째 모델 학습까지 차례대로 fold가 테스트 데이터로 교차되어 사용됨."
   ]
  },
  {
   "cell_type": "code",
   "execution_count": null,
   "metadata": {
    "id": "WmpVj6KT0HIB"
   },
   "outputs": [],
   "source": [
    "from sklearn.model_selection import (교차검증 함수)\n",
    "scores = cross_validate(dt_model, train_data, train_target)\n",
    "print(scores)"
   ]
  },
  {
   "cell_type": "code",
   "execution_count": null,
   "metadata": {
    "id": "X7wPve0ukCt_"
   },
   "outputs": [],
   "source": [
    "print(np.mean(scores[\"test_score\"]))"
   ]
  },
  {
   "cell_type": "markdown",
   "metadata": {
    "id": "68Zb13rMXQb1"
   },
   "source": [
    "## cross_validate : spliter\n",
    "* 기본 5개의 폴더로 분리 \n",
    "* 10개의 분리 : cv = 10\n",
    "* cv=스플리트 객체\n",
    "* cv=KFold() : 회귀모델\n",
    "* cv=StratifiedKFold() : 분류모델"
   ]
  },
  {
   "cell_type": "code",
   "execution_count": null,
   "metadata": {
    "id": "ihN7mNKUkSAe"
   },
   "outputs": [],
   "source": [
    "from sklearn.model_selection import (교차검증 분류모델)\n",
    "scores = cross_validate(dt_model, train_data, train_target, cv = StratifiedKFold())\n",
    "print(np.mean(scores[\"test_score\"]))"
   ]
  },
  {
   "cell_type": "code",
   "execution_count": null,
   "metadata": {
    "id": "QDlyMI0pk4X2"
   },
   "outputs": [],
   "source": [
    "splitter = StratifiedKFold(n_splits=10, shuffle=True, random_state=42)\n",
    "scores = cross_validate(dt_model, train_data, train_target, cv = splitter)\n",
    "print(np.mean(scores[\"test_score\"]))"
   ]
  },
  {
   "cell_type": "markdown",
   "metadata": {
    "id": "pioNxYoCaPvz"
   },
   "source": [
    "## min_impurity_decrease\n",
    "* 부모노드와 자식노드의 불순도 차이 : 정보이득\n",
    "* 불순도의 차이가 클수록 좋음\n",
    "* 주어진 불순도의 최소값보다 작으면 가지분할(노드분할) 하지 않음"
   ]
  },
  {
   "cell_type": "markdown",
   "metadata": {
    "id": "yx-FHxiab1fI"
   },
   "source": [
    "### n_jobs=n : n개의 코어를 사용하여 훈련\n",
    "### n이 -1이면 이용가능한 모든코어 활용"
   ]
  },
  {
   "cell_type": "code",
   "execution_count": null,
   "metadata": {
    "id": "fWm9RTDwlTj2"
   },
   "outputs": [],
   "source": [
    "from sklearn.model_selection import (그리드서치 클래스))\n",
    "params = {\"min_impurity_decrease\":[0.0001, 0.0002, 0.0003, 0.0004, 0.0005]}\n",
    "\n",
    "gs_model = GridSearchCV(DecisionTreeClassifier(random_state=42), params, n_jobs = -1)\n",
    "gs_model.fit(train_data, train_target)"
   ]
  },
  {
   "cell_type": "code",
   "execution_count": null,
   "metadata": {
    "id": "a-_eTzUbmYTn"
   },
   "outputs": [],
   "source": [
    "dt = gs_model.best_estimator_\n",
    "print(dt.score(train_data, train_target))"
   ]
  },
  {
   "cell_type": "code",
   "execution_count": null,
   "metadata": {
    "id": "wOWy4uRynAWl"
   },
   "outputs": [],
   "source": [
    "print(gs_model.best_params_)"
   ]
  },
  {
   "cell_type": "code",
   "execution_count": null,
   "metadata": {
    "id": "UHjL5rrVnPUs"
   },
   "outputs": [],
   "source": [
    "print(gs_model.cv_results_[\"mean_test_score\"])"
   ]
  },
  {
   "cell_type": "code",
   "execution_count": null,
   "metadata": {
    "id": "HI_SyffNnZas"
   },
   "outputs": [],
   "source": [
    "best_index = np.argmax(gs_model.cv_results_[\"mean_test_score\"])\n",
    "print(gs_model.cv_results_[\"params\"][best_index])"
   ]
  },
  {
   "cell_type": "code",
   "execution_count": null,
   "metadata": {
    "id": "tZS7cnstn7B8"
   },
   "outputs": [],
   "source": [
    "params = {'min_impurity_decrease': np.arange(0.0001, 0.001, 0.0001),\n",
    "          'max_depth': range(5, 20, 1),\n",
    "          'min_samples_split': range(2, 100, 10)\n",
    "          }"
   ]
  },
  {
   "cell_type": "code",
   "execution_count": null,
   "metadata": {
    "id": "AOXyC-d5orsG"
   },
   "outputs": [],
   "source": [
    "gs_model = GridSearchCV(DecisionTreeClassifier(random_state=42), params, n_jobs = -1)\n",
    "gs_model.fit(train_data, train_target)"
   ]
  },
  {
   "cell_type": "code",
   "execution_count": null,
   "metadata": {
    "id": "foyAAJ_lpDtt"
   },
   "outputs": [],
   "source": [
    "print(gs_model.best_params_)"
   ]
  },
  {
   "cell_type": "code",
   "execution_count": null,
   "metadata": {
    "id": "Sb_MnLG6pnP7"
   },
   "outputs": [],
   "source": [
    "print(np.max(gs_model.cv_results_[\"mean_test_score\"]))\n",
    "print(gs_model.cv_results_[\"mean_test_score\"].shape)"
   ]
  },
  {
   "cell_type": "code",
   "execution_count": null,
   "metadata": {
    "id": "jluDehgmpwQL"
   },
   "outputs": [],
   "source": [
    "from scipy.stats import uniform, randint\n",
    "\n",
    "rgen = randint(0, 10)\n",
    "rgen.rvs(10)"
   ]
  },
  {
   "cell_type": "code",
   "execution_count": null,
   "metadata": {
    "id": "Hi45TEt5qatj"
   },
   "outputs": [],
   "source": [
    "np.unique(rgen.rvs(1000), return_counts=True)"
   ]
  },
  {
   "cell_type": "code",
   "execution_count": null,
   "metadata": {
    "id": "sjjdQgRsqe1K"
   },
   "outputs": [],
   "source": [
    "ugen = uniform(0, 1)\n",
    "ugen.rvs(10)"
   ]
  },
  {
   "cell_type": "code",
   "execution_count": null,
   "metadata": {
    "id": "awX-gLDoqhka"
   },
   "outputs": [],
   "source": [
    "params = {'min_impurity_decrease': uniform(0.0001, 0.001),\n",
    "          'max_depth': randint(20, 50),\n",
    "          'min_samples_split': randint(2, 25),\n",
    "          'min_samples_leaf': randint(1, 25),\n",
    "          }"
   ]
  },
  {
   "cell_type": "code",
   "execution_count": null,
   "metadata": {
    "id": "6zfRyp-pqktK"
   },
   "outputs": [],
   "source": [
    "from sklearn.model_selection import (랜덤서치 클래스)\n",
    "\n",
    "rs_model = RandomizedSearchCV(DecisionTreeClassifier(random_state=42), params, \n",
    "                        n_iter=100, n_jobs=-1, random_state=42)\n",
    "rs_model.fit(train_data, train_target)"
   ]
  },
  {
   "cell_type": "code",
   "execution_count": null,
   "metadata": {
    "id": "3mGUcQw2qpGq"
   },
   "outputs": [],
   "source": [
    "print(rs_model.best_params_)"
   ]
  },
  {
   "cell_type": "code",
   "execution_count": null,
   "metadata": {
    "id": "k5juz_z9quE6"
   },
   "outputs": [],
   "source": [
    "print(np.max(rs_model.cv_results_[\"mean_test_score\"]))\n",
    "print(rs_model.cv_results_[\"mean_test_score\"].shape)"
   ]
  },
  {
   "cell_type": "code",
   "execution_count": null,
   "metadata": {
    "id": "3ourxPGHqwgy"
   },
   "outputs": [],
   "source": [
    "dt =rs_model.best_estimator_\n",
    "print(dt.score(test_data, test_target))"
   ]
  },
  {
   "cell_type": "code",
   "execution_count": null,
   "metadata": {
    "id": "VpwRDHBlrYWC"
   },
   "outputs": [],
   "source": []
  }
 ],
 "metadata": {
  "accelerator": "GPU",
  "colab": {
   "authorship_tag": "ABX9TyM4wXsCuBWyF+7CHXf8/gTD",
   "mount_file_id": "10j__ghTmMEChVNyskzVNrGOMUuDkOxye",
   "provenance": []
  },
  "kernelspec": {
   "display_name": "Python 3",
   "language": "python",
   "name": "python3"
  },
  "language_info": {
   "codemirror_mode": {
    "name": "ipython",
    "version": 3
   },
   "file_extension": ".py",
   "mimetype": "text/x-python",
   "name": "python",
   "nbconvert_exporter": "python",
   "pygments_lexer": "ipython3",
   "version": "3.8.3"
  }
 },
 "nbformat": 4,
 "nbformat_minor": 1
}
