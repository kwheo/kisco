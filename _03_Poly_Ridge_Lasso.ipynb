{
 "cells": [
  {
   "cell_type": "markdown",
   "metadata": {
    "id": "n7WUKp0fCL4J"
   },
   "source": [
    "###다항회귀와 다중회귀\n",
    "\n",
    "* 다항회귀\n",
    " > 하나의 특성값을 이용하여 차수를 높이는 회귀분석\n",
    "* 다중회귀\n",
    "  > 2개 이상의 특성값을 이용하는 회귀분석"
   ]
  },
  {
   "cell_type": "code",
   "execution_count": null,
   "metadata": {
    "id": "dAY-zOEOMYWs"
   },
   "outputs": [],
   "source": [
    "from sklearn.preprocessing import (다항특성 클래스)\n",
    "\n",
    "poly = PolynomialFeatures(include_bias=False) # degree : 기본값 2, include_bias(절편값 : 1)\n",
    "#poly.fit([[2,3]])\n",
    "#print(poly.transform([[2,3]]))\n",
    "print(poly.fit_transform([[2,3]]))\n",
    "poly.get_feature_names_out()"
   ]
  },
  {
   "cell_type": "code",
   "execution_count": null,
   "metadata": {
    "id": "2z4qTSemyTyZ"
   },
   "outputs": [],
   "source": [
    "import pandas as pd\n",
    "\n",
    "csv_data = pd.read_csv(\"./Data/perch.csv\")\n",
    "perch_length = csv_data[[\"length\"]]\n",
    "perch_weight = csv_data[\"weight\"]"
   ]
  },
  {
   "cell_type": "code",
   "execution_count": null,
   "metadata": {
    "id": "ZbBPgK8PHg0B"
   },
   "outputs": [],
   "source": [
    "print(poly.fit_transform(perch_length))"
   ]
  },
  {
   "cell_type": "code",
   "execution_count": null,
   "metadata": {
    "id": "IOt6zfnEBewj"
   },
   "outputs": [],
   "source": [
    "import pandas as pd\n",
    "\n",
    "csv_data = pd.read_csv(\"./Data/perch_full.csv\")\n",
    "perch_full = csv_data[[\"length\",\"height\",\"width\"]]\n",
    "perch_weight = csv_data[\"weight\"]"
   ]
  },
  {
   "cell_type": "code",
   "execution_count": null,
   "metadata": {
    "id": "cHv-cEStCeCl"
   },
   "outputs": [],
   "source": [
    "from sklearn.model_selection import train_test_split\n",
    "\n",
    "train_data, test_data, train_target, test_target = train_test_split(perch_full, perch_weight, random_state=42)\n",
    "print(train_data.shape, test_data.shape)"
   ]
  },
  {
   "cell_type": "code",
   "execution_count": null,
   "metadata": {
    "id": "ropaYYBVLTM1"
   },
   "outputs": [],
   "source": [
    "from sklearn.linear_model import LinearRegression\n",
    "\n",
    "lr_model = LinearRegression()\n",
    "lr_model.fit(train_data, train_target)\n",
    "print(\"훈련데이터의 정확도 : \", lr_model.score(train_data, train_target))\n",
    "print(\"테스트데이터의 정확도 : \", lr_model.score(test_data, test_target))"
   ]
  },
  {
   "cell_type": "code",
   "execution_count": null,
   "metadata": {
    "id": "laM84Z2dP4hX"
   },
   "outputs": [],
   "source": [
    "train_poly = poly.fit_transform(train_data)\n",
    "print(train_poly.shape)\n",
    "poly.get_feature_names_out()"
   ]
  },
  {
   "cell_type": "code",
   "execution_count": null,
   "metadata": {
    "id": "0xuWOgGVRvSW"
   },
   "outputs": [],
   "source": [
    "test_poly = poly.fit_transform(test_data)\n",
    "\n",
    "lr_poly_model = LinearRegression()\n",
    "lr_poly_model.fit(train_poly, train_target)\n",
    "print(\"훈련데이터의 정확도 : \", lr_poly_model.score(train_poly, train_target))\n",
    "print(\"테스트데이터의 정확도 : \", lr_poly_model.score(test_poly, test_target))"
   ]
  },
  {
   "cell_type": "code",
   "execution_count": null,
   "metadata": {
    "id": "b7EEzoHDTSjJ"
   },
   "outputs": [],
   "source": [
    "poly2 = PolynomialFeatures(degree=5, include_bias=False)\n",
    "train_poly2 = poly2.fit_transform(train_data)\n",
    "print(train_poly2.shape)"
   ]
  },
  {
   "cell_type": "code",
   "execution_count": null,
   "metadata": {
    "id": "Fydn4egJUZ5Z"
   },
   "outputs": [],
   "source": [
    "test_poly2 = poly2.transform(test_data)\n",
    "\n",
    "lr_poly_model.fit(train_poly2, train_target)\n",
    "print(\"훈련데이터의 정확도 : \", lr_poly_model.score(train_poly2, train_target))\n",
    "print(\"테스트데이터의 정확도 : \", lr_poly_model.score(test_poly2, test_target))"
   ]
  },
  {
   "cell_type": "markdown",
   "metadata": {
    "id": "TZFaZ7bz3Ljg"
   },
   "source": [
    "###과대적합(Overfitting) & 과소적합(Underfitting)\n",
    "\n",
    "![](https://images.velog.io/images/arittung/post/d68462e5-77cb-47fc-acee-a8cb5ea1925d/image.png)\n",
    "\n",
    "과대 적합(Overfitting)\n",
    "\n",
    "* 모델이 훈련 세트에서는 좋은 성능을 내지만 검증 세트에서는 낮은 성능을 내는 경우.\n",
    "\n",
    "* 훈련 세트와 검증 세트에서 측정한 성능의 간격이 큼. (== 분산이 큼(high variance))\n",
    "\n",
    "* 과대 적합의 주요 원인\n",
    ": 훈련 세트에 충분히 다양한 샘플이 포함되지 않음.\n",
    "\n",
    "* 해결 방법 :\n",
    "\n",
    "> 1) 훈련 세트에 충분히 다양한 샘플을 포함시킴.\n",
    "\n",
    "> 2) 훈련 샘플을 더 모을 수 없는 경우, 모델이 훈련 세트에 집착하지 않도록 가중치를 제한함. (= 모델의 복잡도를 낮춤)\n",
    "\n",
    "> 3) 훈련 데이터의 잡음을 줄임.(Outlier, Error 제거)\n",
    "\n",
    "과소 적합(Underfitting)\n",
    "\n",
    "* 훈련 세트와 검증 세트의 성능에는 차이가 크지 않지만 모두 낮은 성능을 내는 경우. 훈련 세트와 검증 세트의 성능이 서로 가까워지면 성능 자체가 낮음.\n",
    "\n",
    "* 과소적합된 모델을 '편향이 크다(high bias)'라고도 함.\n",
    "\n",
    "* 해결 방법 :\n",
    "\n",
    "> 1) 복잡도가 더 높은 모델(파라미터가 더 많은 모델) 사용\n",
    "\n",
    "> 2) 가중치 규제 완화"
   ]
  },
  {
   "cell_type": "markdown",
   "metadata": {
    "id": "q0U8YyoMVUpr"
   },
   "source": [
    "### 규제\n",
    "* 릿지(Ridge) = (L2규제) = $(가중치)^2$\n",
    "* 라쏘(Lasso) = (L1규제) = |가중치|"
   ]
  },
  {
   "cell_type": "code",
   "execution_count": null,
   "metadata": {
    "id": "K4Ct8j5_UvLm"
   },
   "outputs": [],
   "source": [
    "from sklearn.preprocessing import StandardScaler\n",
    "\n",
    "ss = StandardScaler()\n",
    "train_scaled = ss.fit_transform(train_poly2)\n",
    "test_scaled = ss.transform(test_poly2)"
   ]
  },
  {
   "cell_type": "code",
   "execution_count": null,
   "metadata": {
    "id": "RpEM7Odlp_Oi"
   },
   "outputs": [],
   "source": [
    "lr_poly_model.fit(train_scaled, train_target)\n",
    "print(\"훈련데이터의 정확도 : \", lr_poly_model.score(train_scaled, train_target))\n",
    "print(\"검증데이터의 정확도 : \", lr_poly_model.score(test_scaled, test_target))"
   ]
  },
  {
   "cell_type": "code",
   "execution_count": null,
   "metadata": {
    "id": "mUqGMIl8qZ9i"
   },
   "outputs": [],
   "source": [
    "from sklearn.linear_model import (릿지 규제 클래스)\n",
    "\n",
    "ridge = Ridge() #alpha(규제강도):하이퍼파라미터(사용자 지정 값), 알파값이 커지면 규제강도 커짐\n",
    "ridge.fit(train_scaled, train_target)\n",
    "print(\"훈련데이터의 정확도 : \", ridge.score(train_scaled, train_target))\n",
    "print(\"검증데이터의 정확도 : \", ridge.score(test_scaled, test_target))"
   ]
  },
  {
   "cell_type": "code",
   "execution_count": null,
   "metadata": {
    "id": "vBU6il5art3k"
   },
   "outputs": [],
   "source": [
    "import matplotlib.pyplot as plt\n",
    "import numpy as np\n",
    "\n",
    "train_score = []\n",
    "test_score = []\n",
    "\n",
    "alpha_list = [0.001, 0.01, 0.1, 1, 10, 100]\n",
    "for alpha in alpha_list:\n",
    "  ridge = Ridge(alpha=alpha)\n",
    "  ridge.fit(train_scaled, train_target)\n",
    "  train_score.append(ridge.score(train_scaled, train_target))\n",
    "  test_score.append(ridge.score(test_scaled, test_target))\n",
    "\n",
    "plt.plot(np.log10(alpha_list), train_score, color=\"red\")\n",
    "plt.plot(np.log10(alpha_list), test_score, color=\"blue\")\n",
    "plt.xlabel(\"alpha\")\n",
    "plt.ylabel(\"R^2\")\n",
    "plt.show()"
   ]
  },
  {
   "cell_type": "code",
   "execution_count": null,
   "metadata": {
    "id": "UQtTr3cEs1sL"
   },
   "outputs": [],
   "source": [
    "ridge = Ridge(alpha=0.1)\n",
    "ridge.fit(train_scaled, train_target)\n",
    "print(\"훈련데이터의 정확도 : \", ridge.score(train_scaled, train_target))\n",
    "print(\"검증데이터의 정확도 : \", ridge.score(test_scaled, test_target))"
   ]
  },
  {
   "cell_type": "code",
   "execution_count": null,
   "metadata": {
    "id": "if_3WjXBvj2C"
   },
   "outputs": [],
   "source": [
    "print(np.sum(ridge.coef_ == 0))"
   ]
  },
  {
   "cell_type": "code",
   "execution_count": null,
   "metadata": {
    "id": "zg1PsrUawBW3"
   },
   "outputs": [],
   "source": [
    "from sklearn.linear_model import (라쏘 규제 클래스)\n",
    "\n",
    "lasso = Lasso()\n",
    "lasso.fit(train_scaled, train_target)\n",
    "print(\"훈련데이터의 정확도 : \", lasso.score(train_scaled, train_target))\n",
    "print(\"검증데이터의 정확도 : \", lasso.score(test_scaled, test_target))"
   ]
  },
  {
   "cell_type": "code",
   "execution_count": null,
   "metadata": {
    "id": "WDMtAlgHy21w"
   },
   "outputs": [],
   "source": [
    "train_score = []\n",
    "test_score = []\n",
    "\n",
    "alpha_list = [0.001, 0.01, 0.1, 1, 10, 100]\n",
    "for alpha in alpha_list:\n",
    "  lasso = Lasso(alpha=alpha)\n",
    "  lasso.fit(train_scaled, train_target)\n",
    "  train_score.append(lasso.score(train_scaled, train_target))\n",
    "  test_score.append(lasso.score(test_scaled, test_target))\n",
    "\n",
    "plt.plot(np.log10(alpha_list), train_score)\n",
    "plt.plot(np.log10(alpha_list), test_score)\n",
    "plt.xlabel(\"alpha\")\n",
    "plt.ylabel(\"R^2\")\n",
    "plt.show()"
   ]
  },
  {
   "cell_type": "code",
   "execution_count": null,
   "metadata": {
    "id": "OYm9y09Hzr3H"
   },
   "outputs": [],
   "source": [
    "lasso = Lasso(alpha=10)\n",
    "lasso.fit(train_scaled, train_target)\n",
    "print(\"훈련데이터의 정확도 : \", lasso.score(train_scaled, train_target))\n",
    "print(\"검증데이터의 정확도 : \", lasso.score(test_scaled, test_target))"
   ]
  },
  {
   "cell_type": "code",
   "execution_count": null,
   "metadata": {
    "id": "nsLspwX50Q4v"
   },
   "outputs": [],
   "source": [
    "print(np.sum(lasso.coef_ == 0))\n",
    "print(lasso.coef_ == 0)"
   ]
  },
  {
   "cell_type": "code",
   "execution_count": null,
   "metadata": {
    "id": "euVocGeQTJga"
   },
   "outputs": [],
   "source": [
    "print(np.sum(lasso.coef_ != 0))\n",
    "print(lasso.coef_)"
   ]
  }
 ],
 "metadata": {
  "colab": {
   "authorship_tag": "ABX9TyNMi79ZRDmbNWgG0OC5DCqP",
   "mount_file_id": "1UpXZnUbCjysBIDUODKscVuJ0SCp3ro2X",
   "provenance": []
  },
  "kernelspec": {
   "display_name": "Python 3",
   "language": "python",
   "name": "python3"
  },
  "language_info": {
   "codemirror_mode": {
    "name": "ipython",
    "version": 3
   },
   "file_extension": ".py",
   "mimetype": "text/x-python",
   "name": "python",
   "nbconvert_exporter": "python",
   "pygments_lexer": "ipython3",
   "version": "3.8.3"
  }
 },
 "nbformat": 4,
 "nbformat_minor": 1
}
